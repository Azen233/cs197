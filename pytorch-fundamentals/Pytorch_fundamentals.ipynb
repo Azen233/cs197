{
  "nbformat": 4,
  "nbformat_minor": 0,
  "metadata": {
    "colab": {
      "provenance": []
    },
    "kernelspec": {
      "name": "python3",
      "display_name": "Python 3"
    },
    "language_info": {
      "name": "python"
    }
  },
  "cells": [
    {
      "cell_type": "code",
      "execution_count": 1,
      "metadata": {
        "id": "6lgxAPTsc9SA"
      },
      "outputs": [],
      "source": [
        "import torch\n",
        "import numpy as np\n",
        "data = [[5,3],[0,9]]\n",
        "x_data = torch.tensor(data)"
      ]
    },
    {
      "cell_type": "code",
      "source": [
        "print(x_data)"
      ],
      "metadata": {
        "colab": {
          "base_uri": "https://localhost:8080/"
        },
        "id": "_MdL6Y2JdQOj",
        "outputId": "3f194b47-d60f-4237-c900-054f42454a62"
      },
      "execution_count": 2,
      "outputs": [
        {
          "output_type": "stream",
          "name": "stdout",
          "text": [
            "tensor([[5, 3],\n",
            "        [0, 9]])\n"
          ]
        }
      ]
    },
    {
      "cell_type": "code",
      "source": [
        "shape = (5,4,)\n",
        "x_data = torch.rand(shape)\n",
        "x_rand = torch.rand_like(x_data,dtype = torch.float)\n",
        "print(x_rand)"
      ],
      "metadata": {
        "colab": {
          "base_uri": "https://localhost:8080/"
        },
        "id": "R1xRWZS1dYwX",
        "outputId": "57f5dce9-c8a4-49be-8abd-61a8bc030511"
      },
      "execution_count": 3,
      "outputs": [
        {
          "output_type": "stream",
          "name": "stdout",
          "text": [
            "tensor([[3.8790e-01, 6.4248e-01, 9.5537e-01, 2.0188e-01],\n",
            "        [2.6551e-01, 2.9194e-01, 8.3140e-01, 2.1121e-01],\n",
            "        [4.0669e-01, 5.8429e-01, 8.5324e-04, 8.3516e-01],\n",
            "        [6.4198e-01, 9.4516e-01, 5.2244e-01, 6.6784e-01],\n",
            "        [5.7182e-01, 2.9784e-01, 5.1325e-01, 2.3775e-01]])\n"
          ]
        }
      ]
    },
    {
      "cell_type": "code",
      "source": [
        "t = torch.rand((5,4))\n",
        "print(t)"
      ],
      "metadata": {
        "colab": {
          "base_uri": "https://localhost:8080/"
        },
        "id": "mTG7MhOvd6Nu",
        "outputId": "e8c6b968-c44a-4881-b30e-81a38436cf89"
      },
      "execution_count": 4,
      "outputs": [
        {
          "output_type": "stream",
          "name": "stdout",
          "text": [
            "tensor([[0.5693, 0.1913, 0.9567, 0.6693],\n",
            "        [0.1788, 0.7864, 0.4718, 0.6126],\n",
            "        [0.2599, 0.2494, 0.6032, 0.6464],\n",
            "        [0.5539, 0.9744, 0.2487, 0.6898],\n",
            "        [0.3304, 0.2039, 0.9781, 0.9137]])\n"
          ]
        }
      ]
    },
    {
      "cell_type": "code",
      "source": [
        "print(t.device)"
      ],
      "metadata": {
        "colab": {
          "base_uri": "https://localhost:8080/"
        },
        "id": "YyOwODu_eeLg",
        "outputId": "5020c85b-b877-49c6-c5e1-68dc0384badf"
      },
      "execution_count": 5,
      "outputs": [
        {
          "output_type": "stream",
          "name": "stdout",
          "text": [
            "cpu\n"
          ]
        }
      ]
    },
    {
      "cell_type": "code",
      "source": [
        "u = torch.rand((4,4))\n",
        "v = torch.rand((4,4))\n",
        "w = torch.cat([u,v],dim = 0)\n",
        "print(w.shape)"
      ],
      "metadata": {
        "colab": {
          "base_uri": "https://localhost:8080/"
        },
        "id": "fvQ-oZjjenQI",
        "outputId": "7695bb6c-4230-4702-c493-6d06e76ffdb8"
      },
      "execution_count": 6,
      "outputs": [
        {
          "output_type": "stream",
          "name": "stdout",
          "text": [
            "torch.Size([8, 4])\n"
          ]
        }
      ]
    },
    {
      "cell_type": "code",
      "source": [
        "x = torch.stack([u,v],dim = 0)\n",
        "print(x.shape)\n",
        "print(u)\n",
        "print(v)\n",
        "print(x)"
      ],
      "metadata": {
        "colab": {
          "base_uri": "https://localhost:8080/"
        },
        "id": "YmOVHpMWhCK6",
        "outputId": "ae541e59-670e-4a24-9527-60b50a41112f"
      },
      "execution_count": 7,
      "outputs": [
        {
          "output_type": "stream",
          "name": "stdout",
          "text": [
            "torch.Size([2, 4, 4])\n",
            "tensor([[0.0796, 0.1847, 0.4872, 0.5178],\n",
            "        [0.7457, 0.6204, 0.3036, 0.0839],\n",
            "        [0.7236, 0.4064, 0.5661, 0.0482],\n",
            "        [0.9084, 0.7385, 0.8267, 0.0127]])\n",
            "tensor([[0.0437, 0.3415, 0.9054, 0.0813],\n",
            "        [0.6848, 0.1988, 0.2284, 0.5101],\n",
            "        [0.3684, 0.4941, 0.7807, 0.2042],\n",
            "        [0.3069, 0.5549, 0.0040, 0.5066]])\n",
            "tensor([[[0.0796, 0.1847, 0.4872, 0.5178],\n",
            "         [0.7457, 0.6204, 0.3036, 0.0839],\n",
            "         [0.7236, 0.4064, 0.5661, 0.0482],\n",
            "         [0.9084, 0.7385, 0.8267, 0.0127]],\n",
            "\n",
            "        [[0.0437, 0.3415, 0.9054, 0.0813],\n",
            "         [0.6848, 0.1988, 0.2284, 0.5101],\n",
            "         [0.3684, 0.4941, 0.7807, 0.2042],\n",
            "         [0.3069, 0.5549, 0.0040, 0.5066]]])\n"
          ]
        }
      ]
    },
    {
      "cell_type": "code",
      "source": [
        "y = torch.stack([u,v],dim = 2)\n",
        "print(y.shape)"
      ],
      "metadata": {
        "colab": {
          "base_uri": "https://localhost:8080/"
        },
        "id": "lONVSd5xhzD8",
        "outputId": "96da4662-c413-4223-ec55-a4eae7f9a136"
      },
      "execution_count": 8,
      "outputs": [
        {
          "output_type": "stream",
          "name": "stdout",
          "text": [
            "torch.Size([4, 4, 2])\n"
          ]
        }
      ]
    },
    {
      "cell_type": "code",
      "source": [
        "w = torch.stack([u,v],dim = 2)\n",
        "e = w[3,3,0]\n",
        "print(w)\n",
        "print(e)"
      ],
      "metadata": {
        "colab": {
          "base_uri": "https://localhost:8080/"
        },
        "id": "V2VL6MQKiDMs",
        "outputId": "2701de6f-e1e5-43bf-93dc-4af6e3d710e8"
      },
      "execution_count": 9,
      "outputs": [
        {
          "output_type": "stream",
          "name": "stdout",
          "text": [
            "tensor([[[0.0796, 0.0437],\n",
            "         [0.1847, 0.3415],\n",
            "         [0.4872, 0.9054],\n",
            "         [0.5178, 0.0813]],\n",
            "\n",
            "        [[0.7457, 0.6848],\n",
            "         [0.6204, 0.1988],\n",
            "         [0.3036, 0.2284],\n",
            "         [0.0839, 0.5101]],\n",
            "\n",
            "        [[0.7236, 0.3684],\n",
            "         [0.4064, 0.4941],\n",
            "         [0.5661, 0.7807],\n",
            "         [0.0482, 0.2042]],\n",
            "\n",
            "        [[0.9084, 0.3069],\n",
            "         [0.7385, 0.5549],\n",
            "         [0.8267, 0.0040],\n",
            "         [0.0127, 0.5066]]])\n",
            "tensor(0.0127)\n"
          ]
        }
      ]
    },
    {
      "cell_type": "code",
      "source": [
        "a = torch.ones((4,3))\n",
        "a = a.mul(a)\n",
        "print(a)\n",
        "print(a.shape)"
      ],
      "metadata": {
        "colab": {
          "base_uri": "https://localhost:8080/"
        },
        "id": "oZLfzOoFi6ET",
        "outputId": "23e37edf-1e13-4819-e206-7f32846c66c8"
      },
      "execution_count": 10,
      "outputs": [
        {
          "output_type": "stream",
          "name": "stdout",
          "text": [
            "tensor([[1., 1., 1.],\n",
            "        [1., 1., 1.],\n",
            "        [1., 1., 1.],\n",
            "        [1., 1., 1.]])\n",
            "torch.Size([4, 3])\n"
          ]
        }
      ]
    },
    {
      "cell_type": "code",
      "source": [
        "a = torch.unsqueeze(a, 0)\n",
        "print(a.shape)\n",
        "print(a)"
      ],
      "metadata": {
        "colab": {
          "base_uri": "https://localhost:8080/"
        },
        "id": "5bHdNpp3jLO3",
        "outputId": "0d95f75b-b4f3-4feb-fd84-ca5609624a6c"
      },
      "execution_count": 11,
      "outputs": [
        {
          "output_type": "stream",
          "name": "stdout",
          "text": [
            "torch.Size([1, 4, 3])\n",
            "tensor([[[1., 1., 1.],\n",
            "         [1., 1., 1.],\n",
            "         [1., 1., 1.],\n",
            "         [1., 1., 1.]]])\n"
          ]
        }
      ]
    },
    {
      "cell_type": "code",
      "source": [
        "result = torch.mul(a, a.T)\n",
        "\n",
        "print(result)"
      ],
      "metadata": {
        "colab": {
          "base_uri": "https://localhost:8080/"
        },
        "id": "9zBKvymxlcPD",
        "outputId": "f79e10b6-f904-4172-a78a-01a4e6673fe9"
      },
      "execution_count": 12,
      "outputs": [
        {
          "output_type": "stream",
          "name": "stdout",
          "text": [
            "tensor([[[1., 1., 1.],\n",
            "         [1., 1., 1.],\n",
            "         [1., 1., 1.],\n",
            "         [1., 1., 1.]],\n",
            "\n",
            "        [[1., 1., 1.],\n",
            "         [1., 1., 1.],\n",
            "         [1., 1., 1.],\n",
            "         [1., 1., 1.]],\n",
            "\n",
            "        [[1., 1., 1.],\n",
            "         [1., 1., 1.],\n",
            "         [1., 1., 1.],\n",
            "         [1., 1., 1.]]])\n"
          ]
        },
        {
          "output_type": "stream",
          "name": "stderr",
          "text": [
            "<ipython-input-12-1891da3ec769>:1: UserWarning: The use of `x.T` on tensors of dimension other than 2 to reverse their shape is deprecated and it will throw an error in a future release. Consider `x.mT` to transpose batches of matrices or `x.permute(*torch.arange(x.ndim - 1, -1, -1))` to reverse the dimensions of a tensor. (Triggered internally at ../aten/src/ATen/native/TensorShape.cpp:3571.)\n",
            "  result = torch.mul(a, a.T)\n"
          ]
        }
      ]
    },
    {
      "cell_type": "code",
      "source": [
        "t = torch.tensor([1,1,1])\n",
        "t = t.add(1)\n",
        "print(t)\n",
        "t.add_(2)\n",
        "print(t)\n",
        "n = t.numpy()\n",
        "print(n)"
      ],
      "metadata": {
        "colab": {
          "base_uri": "https://localhost:8080/"
        },
        "id": "rnGWFMZIqVzG",
        "outputId": "a6d3333e-394a-443c-9c6a-c894d2c66145"
      },
      "execution_count": 13,
      "outputs": [
        {
          "output_type": "stream",
          "name": "stdout",
          "text": [
            "tensor([2, 2, 2])\n",
            "tensor([4, 4, 4])\n",
            "[4 4 4]\n"
          ]
        }
      ]
    },
    {
      "cell_type": "code",
      "source": [
        "import torch\n",
        "from torchvision.models import resnet18, ResNet18_Weights\n",
        "model = resnet18(weights=ResNet18_Weights.DEFAULT)\n",
        "data = torch.rand(1,3,64,64)\n",
        "labels = torch.rand(1,1000)"
      ],
      "metadata": {
        "id": "uZ5Hz6antvTA",
        "colab": {
          "base_uri": "https://localhost:8080/"
        },
        "outputId": "e4df0e01-09db-4d2e-8583-483935ad99f9"
      },
      "execution_count": 14,
      "outputs": [
        {
          "output_type": "stream",
          "name": "stderr",
          "text": [
            "Downloading: \"https://download.pytorch.org/models/resnet18-f37072fd.pth\" to /root/.cache/torch/hub/checkpoints/resnet18-f37072fd.pth\n",
            "100%|██████████| 44.7M/44.7M [00:00<00:00, 66.3MB/s]\n"
          ]
        }
      ]
    },
    {
      "cell_type": "code",
      "source": [
        "preds = model(data)"
      ],
      "metadata": {
        "id": "RiTDALi81pYx"
      },
      "execution_count": 15,
      "outputs": []
    },
    {
      "cell_type": "code",
      "source": [
        "w = model.conv1.weight\n",
        "print(w)"
      ],
      "metadata": {
        "id": "t4DSsboA3RAs",
        "colab": {
          "base_uri": "https://localhost:8080/"
        },
        "outputId": "33ea7975-158b-463e-c3ae-0a72cb6914d9"
      },
      "execution_count": 16,
      "outputs": [
        {
          "output_type": "stream",
          "name": "stdout",
          "text": [
            "Parameter containing:\n",
            "tensor([[[[-1.0419e-02, -6.1356e-03, -1.8098e-03,  ...,  5.6615e-02,\n",
            "            1.7083e-02, -1.2694e-02],\n",
            "          [ 1.1083e-02,  9.5276e-03, -1.0993e-01,  ..., -2.7124e-01,\n",
            "           -1.2907e-01,  3.7424e-03],\n",
            "          [-6.9434e-03,  5.9089e-02,  2.9548e-01,  ...,  5.1972e-01,\n",
            "            2.5632e-01,  6.3573e-02],\n",
            "          ...,\n",
            "          [-2.7535e-02,  1.6045e-02,  7.2595e-02,  ..., -3.3285e-01,\n",
            "           -4.2058e-01, -2.5781e-01],\n",
            "          [ 3.0613e-02,  4.0960e-02,  6.2850e-02,  ...,  4.1384e-01,\n",
            "            3.9359e-01,  1.6606e-01],\n",
            "          [-1.3736e-02, -3.6746e-03, -2.4084e-02,  ..., -1.5070e-01,\n",
            "           -8.2230e-02, -5.7828e-03]],\n",
            "\n",
            "         [[-1.1397e-02, -2.6619e-02, -3.4641e-02,  ...,  3.2521e-02,\n",
            "            6.6221e-04, -2.5743e-02],\n",
            "          [ 4.5687e-02,  3.3603e-02, -1.0453e-01,  ..., -3.1253e-01,\n",
            "           -1.6051e-01, -1.2826e-03],\n",
            "          [-8.3730e-04,  9.8420e-02,  4.0210e-01,  ...,  7.0789e-01,\n",
            "            3.6887e-01,  1.2455e-01],\n",
            "          ...,\n",
            "          [-5.5926e-02, -5.2239e-03,  2.7081e-02,  ..., -4.6178e-01,\n",
            "           -5.7080e-01, -3.6552e-01],\n",
            "          [ 3.2860e-02,  5.5574e-02,  9.9670e-02,  ...,  5.4636e-01,\n",
            "            4.8276e-01,  1.9867e-01],\n",
            "          [ 5.3051e-03,  6.6938e-03, -1.7254e-02,  ..., -1.4822e-01,\n",
            "           -7.7248e-02,  7.2183e-04]],\n",
            "\n",
            "         [[-2.0315e-03, -9.1617e-03,  2.1209e-02,  ...,  8.9177e-02,\n",
            "            3.3655e-02, -2.0102e-02],\n",
            "          [ 1.5398e-02, -1.8648e-02, -1.2591e-01,  ..., -2.5342e-01,\n",
            "           -1.2980e-01, -2.7975e-02],\n",
            "          [ 9.8454e-03,  4.9047e-02,  2.1699e-01,  ...,  3.4872e-01,\n",
            "            1.0433e-01,  1.8413e-02],\n",
            "          ...,\n",
            "          [-2.8356e-02,  1.8404e-02,  9.8647e-02,  ..., -1.1740e-01,\n",
            "           -2.5760e-01, -1.5451e-01],\n",
            "          [ 2.0766e-02, -2.6286e-03, -3.7825e-02,  ...,  2.4141e-01,\n",
            "            2.4345e-01,  1.1796e-01],\n",
            "          [ 7.4684e-04,  7.7677e-04, -1.0050e-02,  ..., -1.4865e-01,\n",
            "           -1.1754e-01, -3.8350e-02]]],\n",
            "\n",
            "\n",
            "        [[[-4.4154e-03, -4.0645e-03,  3.1589e-03,  ..., -3.7026e-02,\n",
            "           -2.5158e-02, -4.7945e-02],\n",
            "          [ 5.1310e-02,  5.3402e-02,  8.0436e-02,  ...,  1.4480e-01,\n",
            "            1.4287e-01,  1.2312e-01],\n",
            "          [-7.3337e-03,  2.1755e-03,  3.7580e-02,  ...,  6.1517e-02,\n",
            "            8.0324e-02,  1.1715e-01],\n",
            "          ...,\n",
            "          [-2.6754e-02, -1.2297e-01, -1.3653e-01,  ..., -1.4068e-01,\n",
            "           -1.1155e-01, -4.9556e-02],\n",
            "          [ 2.3524e-02, -1.7288e-02, -1.1122e-02,  ..., -1.8826e-02,\n",
            "           -2.3320e-02, -2.9474e-02],\n",
            "          [ 2.8689e-02,  2.1659e-02,  4.7888e-02,  ...,  2.5498e-02,\n",
            "            3.5346e-02,  1.1280e-02]],\n",
            "\n",
            "         [[ 4.6919e-04,  1.2153e-02,  4.2035e-02,  ...,  4.6403e-02,\n",
            "            4.0423e-02, -1.4439e-02],\n",
            "          [ 4.3463e-02,  6.8779e-02,  1.3268e-01,  ...,  2.8606e-01,\n",
            "            2.6905e-01,  2.0935e-01],\n",
            "          [-5.7621e-02, -2.2642e-02,  3.0547e-02,  ...,  1.3763e-01,\n",
            "            1.6538e-01,  1.7946e-01],\n",
            "          ...,\n",
            "          [-1.0816e-01, -2.5227e-01, -2.9742e-01,  ..., -2.8503e-01,\n",
            "           -2.1493e-01, -1.0320e-01],\n",
            "          [ 4.0709e-02, -3.2771e-02, -6.3450e-02,  ..., -9.2360e-02,\n",
            "           -6.9876e-02, -4.9841e-02],\n",
            "          [ 8.2942e-02,  8.7580e-02,  1.0111e-01,  ...,  5.2714e-02,\n",
            "            6.0968e-02,  4.1198e-02]],\n",
            "\n",
            "         [[-1.6391e-02, -1.3870e-02,  5.2810e-03,  ...,  4.3698e-02,\n",
            "            2.2707e-02, -4.5983e-02],\n",
            "          [ 3.3202e-02,  4.2014e-02,  9.3500e-02,  ...,  2.6162e-01,\n",
            "            2.2970e-01,  1.6694e-01],\n",
            "          [-4.5987e-02, -1.6365e-02,  2.6811e-02,  ...,  1.4951e-01,\n",
            "            1.3216e-01,  1.3579e-01],\n",
            "          ...,\n",
            "          [-7.2129e-02, -1.8902e-01, -2.3389e-01,  ..., -1.9038e-01,\n",
            "           -1.5609e-01, -7.5974e-02],\n",
            "          [ 5.1161e-02, -2.5815e-02, -6.9357e-02,  ..., -5.8999e-02,\n",
            "           -6.1550e-02, -4.4555e-02],\n",
            "          [ 1.1174e-01,  7.8979e-02,  6.5849e-02,  ...,  3.1617e-02,\n",
            "            2.5221e-02,  7.4257e-03]]],\n",
            "\n",
            "\n",
            "        [[[-7.0826e-08, -6.4306e-08, -7.3806e-08,  ..., -9.8000e-08,\n",
            "           -1.0905e-07, -8.3421e-08],\n",
            "          [-6.1125e-09,  2.0613e-09, -8.0922e-09,  ..., -4.9840e-08,\n",
            "           -4.3836e-08, -3.0538e-09],\n",
            "          [ 7.1953e-08,  7.5616e-08,  5.9282e-08,  ..., -9.7509e-09,\n",
            "           -1.0951e-09,  4.2442e-08],\n",
            "          ...,\n",
            "          [ 9.5889e-08,  1.0039e-07,  7.9817e-08,  ..., -1.7491e-08,\n",
            "           -4.7666e-08, -1.3265e-08],\n",
            "          [ 1.2904e-07,  1.4762e-07,  1.7477e-07,  ...,  1.3233e-07,\n",
            "            1.0628e-07,  9.3316e-08],\n",
            "          [ 1.2558e-07,  1.3644e-07,  1.8431e-07,  ...,  2.1399e-07,\n",
            "            1.7710e-07,  1.7166e-07]],\n",
            "\n",
            "         [[-1.2690e-07, -9.6139e-08, -1.0372e-07,  ..., -1.1808e-07,\n",
            "           -1.3309e-07, -1.0820e-07],\n",
            "          [-5.7412e-08, -2.5055e-08, -3.0115e-08,  ..., -7.2922e-08,\n",
            "           -6.7022e-08, -2.2574e-08],\n",
            "          [ 2.1813e-08,  4.8608e-08,  3.1222e-08,  ..., -1.8694e-08,\n",
            "           -7.9591e-09,  3.9750e-08],\n",
            "          ...,\n",
            "          [ 5.6013e-08,  7.5526e-08,  4.4496e-08,  ..., -4.4128e-08,\n",
            "           -5.9930e-08, -1.8247e-08],\n",
            "          [ 7.7614e-08,  9.8348e-08,  1.0455e-07,  ...,  6.3272e-08,\n",
            "            4.1781e-08,  4.5901e-08],\n",
            "          [ 5.9834e-08,  7.1006e-08,  9.0437e-08,  ...,  1.1654e-07,\n",
            "            8.7550e-08,  9.8837e-08]],\n",
            "\n",
            "         [[-4.3810e-08,  1.3270e-08,  7.8275e-09,  ..., -5.8804e-09,\n",
            "           -2.6217e-08, -1.5649e-08],\n",
            "          [ 4.1700e-08,  1.0778e-07,  1.0946e-07,  ...,  7.6403e-08,\n",
            "            7.1450e-08,  9.7615e-08],\n",
            "          [ 1.0436e-07,  1.6586e-07,  1.5933e-07,  ...,  1.3517e-07,\n",
            "            1.3487e-07,  1.6449e-07],\n",
            "          ...,\n",
            "          [ 9.8763e-08,  1.5072e-07,  1.2547e-07,  ...,  6.8316e-08,\n",
            "            6.8382e-08,  1.1367e-07],\n",
            "          [ 9.1435e-08,  1.3576e-07,  1.3793e-07,  ...,  1.1678e-07,\n",
            "            1.1723e-07,  1.4394e-07],\n",
            "          [ 6.2183e-08,  8.8184e-08,  1.0456e-07,  ...,  1.3941e-07,\n",
            "            1.3333e-07,  1.5844e-07]]],\n",
            "\n",
            "\n",
            "        ...,\n",
            "\n",
            "\n",
            "        [[[-6.1896e-02, -3.0206e-02,  1.9225e-02,  ...,  4.3665e-02,\n",
            "           -2.2114e-02, -4.2214e-02],\n",
            "          [-3.8061e-02,  6.0774e-03,  4.5797e-02,  ...,  9.6029e-02,\n",
            "            5.9254e-02,  2.9958e-02],\n",
            "          [-2.9672e-02,  2.7766e-03,  2.0457e-02,  ...,  5.9828e-02,\n",
            "            4.1422e-02,  2.3134e-02],\n",
            "          ...,\n",
            "          [ 1.1916e-02,  4.5701e-02,  4.4892e-02,  ...,  4.7419e-02,\n",
            "            2.2274e-02, -5.4993e-03],\n",
            "          [-3.2468e-02, -1.2210e-02,  2.2023e-02,  ...,  5.8061e-02,\n",
            "           -7.5033e-03, -5.9736e-02],\n",
            "          [-4.3314e-02, -2.8162e-02, -5.9126e-03,  ...,  8.8460e-02,\n",
            "            8.4406e-03, -5.0019e-02]],\n",
            "\n",
            "         [[-6.1292e-02, -1.4004e-02,  1.7229e-02,  ...,  1.8349e-02,\n",
            "           -3.2708e-02, -4.1060e-02],\n",
            "          [-3.1506e-02,  2.4460e-02,  4.5516e-02,  ...,  6.6806e-02,\n",
            "            4.6687e-02,  3.3248e-02],\n",
            "          [-3.2216e-02,  2.0718e-02,  2.3343e-02,  ...,  3.5265e-02,\n",
            "            3.6478e-02,  3.1291e-02],\n",
            "          ...,\n",
            "          [ 1.7739e-02,  6.1040e-02,  4.8247e-02,  ...,  3.7785e-02,\n",
            "            2.8894e-02,  1.3984e-02],\n",
            "          [-1.0890e-02,  2.2079e-02,  4.2737e-02,  ...,  6.0247e-02,\n",
            "            1.6197e-02, -1.2493e-02],\n",
            "          [-2.2284e-02,  1.3220e-02,  3.0897e-02,  ...,  1.0403e-01,\n",
            "            4.0119e-02, -5.3310e-03]],\n",
            "\n",
            "         [[-8.5322e-02, -4.2603e-02,  6.8145e-03,  ...,  3.0751e-02,\n",
            "           -3.4818e-02, -4.9945e-02],\n",
            "          [-2.9215e-02,  1.8165e-02,  5.1092e-02,  ...,  9.0200e-02,\n",
            "            5.3438e-02,  4.0169e-02],\n",
            "          [-3.9932e-02, -1.1100e-03,  9.6176e-03,  ...,  2.4114e-02,\n",
            "            2.6298e-02,  2.5489e-02],\n",
            "          ...,\n",
            "          [-3.1890e-03,  3.0454e-02,  1.6316e-02,  ...,  5.5054e-03,\n",
            "           -6.2689e-03, -8.4638e-03],\n",
            "          [-2.2995e-02, -2.8211e-03,  2.3203e-02,  ...,  3.5888e-02,\n",
            "           -1.4296e-02, -3.2419e-02],\n",
            "          [-9.8894e-03,  7.0542e-03,  1.0659e-02,  ...,  7.0495e-02,\n",
            "            1.2996e-02, -8.3417e-03]]],\n",
            "\n",
            "\n",
            "        [[[-7.8699e-03,  1.9911e-02,  3.4208e-02,  ...,  2.8694e-02,\n",
            "            1.2820e-02,  1.8142e-02],\n",
            "          [ 8.7942e-03, -3.2875e-02, -3.5713e-02,  ...,  7.2533e-02,\n",
            "            4.5889e-02,  5.2383e-02],\n",
            "          [-3.6122e-02, -1.1878e-01, -1.3767e-01,  ...,  3.3811e-02,\n",
            "            3.7806e-02,  2.6944e-02],\n",
            "          ...,\n",
            "          [ 1.7322e-02,  3.9589e-03, -8.2269e-03,  ...,  2.7543e-03,\n",
            "            1.8313e-02,  1.6057e-02],\n",
            "          [-9.5007e-04,  1.6428e-02,  1.7156e-02,  ...,  3.3672e-03,\n",
            "            2.2857e-02,  6.5783e-04],\n",
            "          [ 6.1727e-03,  2.7145e-02,  1.4340e-02,  ...,  7.5867e-03,\n",
            "            1.8770e-02,  1.5624e-02]],\n",
            "\n",
            "         [[-1.3423e-02, -5.0696e-04,  8.0959e-03,  ..., -6.0963e-03,\n",
            "            9.2341e-03,  1.5751e-02],\n",
            "          [-1.8343e-02, -6.7982e-02, -7.0685e-02,  ...,  2.9855e-02,\n",
            "            2.6264e-02,  2.3773e-02],\n",
            "          [-5.4359e-02, -1.4663e-01, -1.6211e-01,  ...,  1.1781e-02,\n",
            "            3.2477e-02,  1.1980e-02],\n",
            "          ...,\n",
            "          [ 8.3686e-04, -1.7564e-02, -1.9535e-02,  ..., -4.1382e-03,\n",
            "            2.4658e-02,  1.2893e-02],\n",
            "          [-6.3183e-04,  1.1788e-02,  2.4810e-02,  ...,  6.1105e-03,\n",
            "            3.9210e-02,  9.6696e-03],\n",
            "          [-7.1831e-03,  6.6918e-03,  5.2723e-03,  ..., -7.6077e-03,\n",
            "            2.7253e-02,  1.7735e-02]],\n",
            "\n",
            "         [[-2.3753e-04, -4.9343e-03,  2.2991e-03,  ..., -4.7958e-02,\n",
            "           -2.6154e-02, -2.3525e-02],\n",
            "          [-3.3053e-04, -5.1502e-02, -5.9977e-02,  ..., -1.7369e-02,\n",
            "           -2.3337e-02, -3.7312e-02],\n",
            "          [-2.2674e-02, -9.9412e-02, -1.1176e-01,  ..., -1.1725e-02,\n",
            "           -8.3744e-03, -4.0615e-02],\n",
            "          ...,\n",
            "          [ 1.1437e-02, -8.0313e-03, -1.4955e-03,  ..., -3.4133e-02,\n",
            "           -8.7267e-03, -2.3526e-02],\n",
            "          [ 2.9522e-03,  6.7770e-04,  1.9933e-02,  ..., -2.2002e-02,\n",
            "            1.4814e-02, -1.4487e-02],\n",
            "          [-1.9085e-02, -2.9430e-02, -2.3284e-02,  ..., -4.8587e-02,\n",
            "           -1.3049e-02, -2.4368e-02]]],\n",
            "\n",
            "\n",
            "        [[[-3.6296e-02,  7.1996e-03,  1.9100e-02,  ...,  1.9602e-02,\n",
            "            1.4870e-02, -1.7298e-02],\n",
            "          [-1.1061e-02,  8.5665e-02,  1.2667e-01,  ...,  1.3744e-02,\n",
            "           -5.5036e-05, -3.0162e-02],\n",
            "          [ 1.1322e-01,  1.8634e-01,  5.0658e-02,  ..., -1.7333e-01,\n",
            "           -7.2041e-02, -6.2474e-02],\n",
            "          ...,\n",
            "          [-5.3062e-02, -2.5781e-01, -2.6747e-01,  ...,  2.6781e-01,\n",
            "            1.4344e-01,  5.5145e-02],\n",
            "          [-2.1009e-02, -2.9969e-02,  1.0245e-01,  ...,  2.0843e-01,\n",
            "           -4.1518e-03, -3.8118e-02],\n",
            "          [-2.2155e-02,  1.2380e-02,  8.4302e-02,  ..., -4.4992e-02,\n",
            "           -1.4687e-01, -9.0890e-02]],\n",
            "\n",
            "         [[-5.3969e-03,  3.2799e-02,  1.5486e-02,  ..., -7.7451e-03,\n",
            "            3.0229e-03,  1.1216e-03],\n",
            "          [ 6.1723e-02,  1.4899e-01,  1.4645e-01,  ..., -2.8897e-02,\n",
            "           -2.0227e-02, -9.1878e-03],\n",
            "          [ 1.6146e-01,  2.0886e-01, -2.5589e-02,  ..., -2.7278e-01,\n",
            "           -1.0735e-01, -6.2971e-02],\n",
            "          ...,\n",
            "          [-1.3723e-01, -4.0863e-01, -3.8551e-01,  ...,  4.0846e-01,\n",
            "            2.6202e-01,  1.3491e-01],\n",
            "          [-5.9388e-02, -6.1187e-02,  1.4197e-01,  ...,  3.5780e-01,\n",
            "            9.0893e-02, -1.7392e-03],\n",
            "          [ 7.8613e-03,  5.8403e-02,  1.5339e-01,  ...,  4.7045e-02,\n",
            "           -1.0095e-01, -9.7920e-02]],\n",
            "\n",
            "         [[-5.6799e-03,  1.3425e-02, -2.6461e-02,  ...,  4.4881e-03,\n",
            "            2.0666e-03,  1.3902e-02],\n",
            "          [ 6.5943e-03,  4.5181e-02,  6.0260e-02,  ...,  1.4368e-02,\n",
            "           -5.0725e-03,  4.0505e-03],\n",
            "          [ 5.5257e-02,  1.2397e-01,  4.3193e-02,  ..., -1.4486e-01,\n",
            "           -7.4489e-02, -5.7533e-02],\n",
            "          ...,\n",
            "          [-3.1513e-02, -1.6334e-01, -1.5795e-01,  ...,  2.2904e-01,\n",
            "            1.2017e-01,  7.1998e-02],\n",
            "          [-1.0456e-02, -1.1248e-03,  8.4582e-02,  ...,  1.5748e-01,\n",
            "            2.2142e-02, -1.0083e-02],\n",
            "          [-4.8639e-03, -5.0065e-03,  3.6341e-02,  ..., -2.4361e-02,\n",
            "           -7.1195e-02, -6.6788e-02]]]], requires_grad=True)\n"
          ]
        }
      ]
    },
    {
      "cell_type": "code",
      "source": [
        "from torch import nn\n",
        "compute_loss = nn.CrossEntropyLoss()\n",
        "loss = compute_loss(preds, labels)\n",
        "print(loss)"
      ],
      "metadata": {
        "colab": {
          "base_uri": "https://localhost:8080/"
        },
        "id": "exbwRpiR3ovT",
        "outputId": "435df733-2951-4c0d-f697-469f0a0b8992"
      },
      "execution_count": 17,
      "outputs": [
        {
          "output_type": "stream",
          "name": "stdout",
          "text": [
            "tensor(3593.3018, grad_fn=<DivBackward1>)\n"
          ]
        }
      ]
    },
    {
      "cell_type": "code",
      "source": [
        "print(loss.grad_fn)"
      ],
      "metadata": {
        "id": "l0fSni-7BMat",
        "colab": {
          "base_uri": "https://localhost:8080/"
        },
        "outputId": "0373c064-ae5c-4475-fdc4-6871cb77ba84"
      },
      "execution_count": 18,
      "outputs": [
        {
          "output_type": "stream",
          "name": "stdout",
          "text": [
            "<DivBackward1 object at 0x7ff7225f3f40>\n"
          ]
        }
      ]
    },
    {
      "cell_type": "code",
      "source": [
        "loss.backward()"
      ],
      "metadata": {
        "id": "2vj1YIJFXxyC"
      },
      "execution_count": 19,
      "outputs": []
    },
    {
      "cell_type": "code",
      "source": [
        "sgd  = torch.optim.SGD(model.parameters(),lr = 1e-2, momentum=0.9)\n",
        "sgd.step()"
      ],
      "metadata": {
        "id": "jUAPcK0rZMVi"
      },
      "execution_count": 20,
      "outputs": []
    },
    {
      "cell_type": "code",
      "source": [
        "model.zero_grad()"
      ],
      "metadata": {
        "id": "jXB_kSGibUo5"
      },
      "execution_count": 21,
      "outputs": []
    },
    {
      "cell_type": "code",
      "source": [
        "import torch\n",
        "import torch.nn as nn\n",
        "import torch.nn.functional as F\n",
        "class Net(nn.Module):\n",
        "    def __init__(self):\n",
        "        super(Net,self).__init__()\n",
        "        self.fc1 = nn.Linear(32*32, 100)\n",
        "        self.fc2 = nn.Linear(100,10)\n",
        "\n",
        "    def forward(self,x):\n",
        "        x = torch.flatten(x,1)\n",
        "        x = F.relu(self.fc1(x))\n",
        "        x = self.fc2(x)\n",
        "        return x"
      ],
      "metadata": {
        "id": "VP-D_4hycGDH"
      },
      "execution_count": 22,
      "outputs": []
    },
    {
      "cell_type": "code",
      "source": [
        "net = Net()\n",
        "preds = net.forward(torch.randn(1,1,32,32))"
      ],
      "metadata": {
        "id": "pUsuGPfQxq2U"
      },
      "execution_count": 23,
      "outputs": []
    },
    {
      "cell_type": "code",
      "source": [
        "print([name for name, _ in net.named_parameters()])"
      ],
      "metadata": {
        "colab": {
          "base_uri": "https://localhost:8080/"
        },
        "id": "WNlzJdwBx0KT",
        "outputId": "75e78059-c4b9-4422-d060-773fff7393a5"
      },
      "execution_count": 24,
      "outputs": [
        {
          "output_type": "stream",
          "name": "stdout",
          "text": [
            "['fc1.weight', 'fc1.bias', 'fc2.weight', 'fc2.bias']\n"
          ]
        }
      ]
    },
    {
      "cell_type": "code",
      "source": [
        "import torch\n",
        "import torch.nn as nn\n",
        "import torch.nn.functional as F\n",
        "class Net(nn.Module):\n",
        "\n",
        "    def __init__(self):\n",
        "        super(Net, self).__init__()\n",
        "        self.conv1 = nn.Conv2d(1,12,5)\n",
        "        self.conv2 = nn.Conv2d(12,16,5)\n",
        "        self.fc1 = nn.Linear(16*5*5,120)\n",
        "        self.fc2 = nn.Linear(120,84)\n",
        "        self.fc3 = nn.Linear(84,10)\n",
        "\n",
        "    def forward(self, x):\n",
        "        x = nn.Max_pool2d(F.relu(self.conv1(x),(2,2)))\n",
        "        x = nn.Max_pool2d(F.relu(self.con2(x),2))\n",
        "        x = torch.flatten(x,1)\n",
        "        x = F.relu(self.fc1(x))\n",
        "        x = F.relu(self.fc2(x))\n",
        "        x = self.fc3(x)\n",
        "        return x"
      ],
      "metadata": {
        "id": "9Gpx6yPIyEpR"
      },
      "execution_count": 29,
      "outputs": []
    },
    {
      "cell_type": "code",
      "source": [
        "import torch\n",
        "import torchvision\n",
        "import torchvision.transforms as transforms"
      ],
      "metadata": {
        "id": "9MYuOYvoCnTc"
      },
      "execution_count": 30,
      "outputs": []
    },
    {
      "cell_type": "code",
      "source": [
        "transform = transforms.Compose(\n",
        "    [transforms.ToTensor(),\n",
        "     transforms.Normalize((0.5, 0.5, 0.5), (0.5, 0.5, 0.5))])\n",
        "\n",
        "batch_size = 4\n",
        "\n",
        "trainset = torchvision.datasets.CIFAR10(root='./data', train=True,\n",
        "                                        download=True, transform=transform)\n",
        "trainloader = torch.utils.data.DataLoader(trainset, batch_size=batch_size,\n",
        "                                          shuffle=True, num_workers=2)\n",
        "\n",
        "testset = torchvision.datasets.CIFAR10(root='./data', train=False,\n",
        "                                       download=True, transform=transform)\n",
        "testloader = torch.utils.data.DataLoader(testset, batch_size=batch_size,\n",
        "                                         shuffle=False, num_workers=2)\n",
        "\n",
        "classes = ('plane', 'car', 'bird', 'cat',\n",
        "           'deer', 'dog', 'frog', 'horse', 'ship', 'truck')"
      ],
      "metadata": {
        "colab": {
          "base_uri": "https://localhost:8080/"
        },
        "id": "RYsR0jKND7lM",
        "outputId": "54ae5631-bdea-48b0-fdd6-98fe4a5421ef"
      },
      "execution_count": 31,
      "outputs": [
        {
          "output_type": "stream",
          "name": "stdout",
          "text": [
            "Downloading https://www.cs.toronto.edu/~kriz/cifar-10-python.tar.gz to ./data/cifar-10-python.tar.gz\n"
          ]
        },
        {
          "output_type": "stream",
          "name": "stderr",
          "text": [
            "100%|██████████| 170498071/170498071 [00:03<00:00, 47670203.30it/s]\n"
          ]
        },
        {
          "output_type": "stream",
          "name": "stdout",
          "text": [
            "Extracting ./data/cifar-10-python.tar.gz to ./data\n",
            "Files already downloaded and verified\n"
          ]
        }
      ]
    },
    {
      "cell_type": "code",
      "source": [
        "import matplotlib.pyplot as plt\n",
        "import numpy as np"
      ],
      "metadata": {
        "id": "pkOOAJYlEHVl"
      },
      "execution_count": 33,
      "outputs": []
    },
    {
      "cell_type": "code",
      "source": [
        "def imshow(img):\n",
        "    img = img / 2 + 0.5     # unnormalize\n",
        "    npimg = img.numpy()\n",
        "    plt.imshow(np.transpose(npimg, (1, 2, 0)))\n",
        "    plt.show()"
      ],
      "metadata": {
        "id": "B8u83ivYEQoo"
      },
      "execution_count": 34,
      "outputs": []
    },
    {
      "cell_type": "code",
      "source": [
        "dataiter = iter(trainloader)\n",
        "images, labels = next(dataiter)\n",
        "\n",
        "# show images\n",
        "imshow(torchvision.utils.make_grid(images))\n",
        "# print labels\n",
        "print(' '.join(f'{classes[labels[j]]:5s}' for j in range(batch_size)))"
      ],
      "metadata": {
        "colab": {
          "base_uri": "https://localhost:8080/",
          "height": 211
        },
        "id": "6skm-KB4EZdj",
        "outputId": "c54113d1-d047-472d-be4d-dd39d3150fbe"
      },
      "execution_count": 35,
      "outputs": [
        {
          "output_type": "display_data",
          "data": {
            "text/plain": [
              "<Figure size 640x480 with 1 Axes>"
            ],
            "image/png": "[encoded data removed]"
          },
          "metadata": {}
        },
        {
          "output_type": "stream",
          "name": "stdout",
          "text": [
            "bird  truck frog  plane\n"
          ]
        }
      ]
    },
    {
      "cell_type": "code",
      "source": [
        "import torch.nn as nn\n",
        "import torch.nn.functional as F\n",
        "\n",
        "\n",
        "class Net(nn.Module):\n",
        "    def __init__(self):\n",
        "        super().__init__()\n",
        "        self.conv1 = nn.Conv2d(3, 6, 5)\n",
        "        self.pool = nn.MaxPool2d(2, 2)\n",
        "        self.conv2 = nn.Conv2d(6, 16, 5)\n",
        "        self.fc1 = nn.Linear(16 * 5 * 5, 120)\n",
        "        self.fc2 = nn.Linear(120, 84)\n",
        "        self.fc3 = nn.Linear(84, 10)\n",
        "\n",
        "    def forward(self, x):\n",
        "        x = self.pool(F.relu(self.conv1(x)))\n",
        "        x = self.pool(F.relu(self.conv2(x)))\n",
        "        x = torch.flatten(x, 1) # flatten all dimensions except batch\n",
        "        x = F.relu(self.fc1(x))\n",
        "        x = F.relu(self.fc2(x))\n",
        "        x = self.fc3(x)\n",
        "        return x\n",
        "\n",
        "\n",
        "net = Net()"
      ],
      "metadata": {
        "id": "B6fbOiWxEfbX"
      },
      "execution_count": 58,
      "outputs": []
    },
    {
      "cell_type": "code",
      "source": [
        "import torch.optim as optim\n",
        "\n",
        "criterion = nn.CrossEntropyLoss()\n",
        "optimizer = optim.SGD(net.parameters(), lr=0.001, momentum=0.9)"
      ],
      "metadata": {
        "id": "kJiUYLd9EmzQ"
      },
      "execution_count": 59,
      "outputs": []
    },
    {
      "cell_type": "code",
      "source": [
        "for epoch in range(2):  \n",
        "\n",
        "    running_loss = 0.0\n",
        "    for i, data in enumerate(trainloader, 0):\n",
        "        # get the inputs; data is a list of [inputs, labels]\n",
        "        inputs, labels = data\n",
        "\n",
        "        # zero the parameter gradients in each batch\n",
        "        optimizer.zero_grad()\n",
        "\n",
        "        # forward + backward + optimize\n",
        "        outputs = net(inputs)\n",
        "        loss = criterion(outputs, labels)\n",
        "        loss.backward()\n",
        "        optimizer.step()\n",
        "\n",
        "        # print statistics\n",
        "        running_loss += loss.item()\n",
        "        if i % 2000 == 1999:    # print every 2000 mini-batches\n",
        "            print(f'[{epoch + 1}, {i + 1:5d}] loss: {running_loss / 2000:.3f}')\n",
        "            running_loss = 0.0\n",
        "\n",
        "print('Finished Training')"
      ],
      "metadata": {
        "colab": {
          "base_uri": "https://localhost:8080/"
        },
        "id": "qplv824nEqRg",
        "outputId": "a48e06e2-64e3-4112-8e77-3bb0c1f5ccc7"
      },
      "execution_count": 60,
      "outputs": [
        {
          "output_type": "stream",
          "name": "stdout",
          "text": [
            "[1,  2000] loss: 2.239\n",
            "[1,  4000] loss: 1.892\n",
            "[1,  6000] loss: 1.668\n",
            "[1,  8000] loss: 1.573\n",
            "[1, 10000] loss: 1.523\n",
            "[1, 12000] loss: 1.458\n",
            "[2,  2000] loss: 1.396\n",
            "[2,  4000] loss: 1.372\n",
            "[2,  6000] loss: 1.333\n",
            "[2,  8000] loss: 1.306\n",
            "[2, 10000] loss: 1.295\n",
            "[2, 12000] loss: 1.282\n",
            "Finished Training\n"
          ]
        }
      ]
    },
    {
      "cell_type": "code",
      "source": [
        "PATH = './cifar_net.pth'\n",
        "torch.save(net.state_dict(), PATH)"
      ],
      "metadata": {
        "id": "PnXdQQKVIfQd"
      },
      "execution_count": 61,
      "outputs": []
    },
    {
      "cell_type": "code",
      "source": [
        "dataiter = iter(testloader)\n",
        "images, labels = next(dataiter)\n",
        "\n",
        "# print images\n",
        "imshow(torchvision.utils.make_grid(images))\n",
        "print('GroundTruth: ', ' '.join(f'{classes[labels[j]]:5s}' for j in range(4)))"
      ],
      "metadata": {
        "colab": {
          "base_uri": "https://localhost:8080/",
          "height": 211
        },
        "id": "geLLJoI9IN9q",
        "outputId": "afc160f7-3b7a-4bd2-9312-d35f0ce14057"
      },
      "execution_count": 62,
      "outputs": [
        {
          "output_type": "display_data",
          "data": {
            "text/plain": [
              "<Figure size 640x480 with 1 Axes>"
            ],
            "image/png": "[encoded data removed]"
          },
          "metadata": {}
        },
        {
          "output_type": "stream",
          "name": "stdout",
          "text": [
            "GroundTruth:  cat   ship  ship  plane\n"
          ]
        }
      ]
    },
    {
      "cell_type": "code",
      "source": [
        "net = Net()\n",
        "net.load_state_dict(torch.load(PATH))"
      ],
      "metadata": {
        "colab": {
          "base_uri": "https://localhost:8080/"
        },
        "id": "blNw7xZWL6cJ",
        "outputId": "8f8c0d30-b7c7-4c23-acb6-391449c59678"
      },
      "execution_count": 63,
      "outputs": [
        {
          "output_type": "execute_result",
          "data": {
            "text/plain": [
              "<All keys matched successfully>"
            ]
          },
          "metadata": {},
          "execution_count": 63
        }
      ]
    },
    {
      "cell_type": "code",
      "source": [
        "outputs = net(images)"
      ],
      "metadata": {
        "id": "vxxoLwhEMBtA"
      },
      "execution_count": 69,
      "outputs": []
    },
    {
      "cell_type": "code",
      "source": [
        "_, predicted = torch.max(outputs, 1)\n",
        "\n",
        "print('Predicted: ', ' '.join(f'{classes[predicted[j]]:5s}'\n",
        "                              for j in range(4)))"
      ],
      "metadata": {
        "colab": {
          "base_uri": "https://localhost:8080/"
        },
        "id": "EbzJ3NtmMDA0",
        "outputId": "839273d0-a392-47d6-ca2b-ab2cf7c40d0f"
      },
      "execution_count": 70,
      "outputs": [
        {
          "output_type": "stream",
          "name": "stdout",
          "text": [
            "Predicted:  bird  ship  ship  ship \n"
          ]
        }
      ]
    },
    {
      "cell_type": "code",
      "source": [
        "correct = 0\n",
        "total = 0\n",
        "with torch.no_grad():#disable gradient computation during the evaluation of the test data\n",
        "    for data in testloader:\n",
        "        images, labels = data\n",
        "        outputs = net(images)\n",
        "        _, predicted = torch.max(outputs.data, 1)\n",
        "        total += labels.size(0)\n",
        "        correct += (predicted == labels).sum().item()#remember the item()\n",
        "\n",
        "print(f'Accuracy of the network on the 10000 test images: {100 * correct // total} %')"
      ],
      "metadata": {
        "colab": {
          "base_uri": "https://localhost:8080/"
        },
        "id": "VxH_02wRMFTa",
        "outputId": "f157e068-ea68-4298-e5b2-4e9b9b23914e"
      },
      "execution_count": 71,
      "outputs": [
        {
          "output_type": "stream",
          "name": "stdout",
          "text": [
            "Accuracy of the network on the 10000 test images: 55 %\n"
          ]
        }
      ]
    },
    {
      "cell_type": "code",
      "source": [
        "# prepare to count predictions for each class\n",
        "correct_pred = {classname: 0 for classname in classes}\n",
        "total_pred = {classname: 0 for classname in classes}\n",
        "\n",
        "# again no gradients needed\n",
        "with torch.no_grad():\n",
        "    for data in testloader:\n",
        "        images, labels = data\n",
        "        outputs = net(images)\n",
        "        _, predictions = torch.max(outputs, 1)\n",
        "        # collect the correct predictions for each class\n",
        "        for label, prediction in zip(labels, predictions):\n",
        "            if label == prediction:\n",
        "                correct_pred[classes[label]] += 1\n",
        "            total_pred[classes[label]] += 1\n",
        "\n",
        "\n",
        "# print accuracy for each class\n",
        "for classname, correct_count in correct_pred.items():\n",
        "    accuracy = 100 * float(correct_count) / total_pred[classname]\n",
        "    print(f'Accuracy for class: {classname:5s} is {accuracy:.1f} %')"
      ],
      "metadata": {
        "colab": {
          "base_uri": "https://localhost:8080/"
        },
        "id": "rAyRsjZrMV_e",
        "outputId": "a33af6e8-0f59-484c-8679-7d6254297d6e"
      },
      "execution_count": 72,
      "outputs": [
        {
          "output_type": "stream",
          "name": "stdout",
          "text": [
            "Accuracy for class: plane is 60.0 %\n",
            "Accuracy for class: car   is 60.7 %\n",
            "Accuracy for class: bird  is 40.4 %\n",
            "Accuracy for class: cat   is 38.1 %\n",
            "Accuracy for class: deer  is 54.6 %\n",
            "Accuracy for class: dog   is 39.8 %\n",
            "Accuracy for class: frog  is 51.0 %\n",
            "Accuracy for class: horse is 64.2 %\n",
            "Accuracy for class: ship  is 73.1 %\n",
            "Accuracy for class: truck is 71.1 %\n"
          ]
        }
      ]
    },
    {
      "cell_type": "code",
      "source": [
        "dataiter = iter(trainloader)\n",
        "images, labels = next(dataiter)\n",
        "# randomly get training images from the dataloader"
      ],
      "metadata": {
        "id": "xtKpHddmMgbc"
      },
      "execution_count": 74,
      "outputs": []
    },
    {
      "cell_type": "code",
      "source": [
        "for epoch in range(2):\n",
        "    running_loss = 0.0\n",
        "    for i, data in enumerate(trainloader, 0):\n",
        "         # get the inputs; data is a list of [inputs, labels]\n",
        "        inputs, labels = data\n",
        "        optimizer.zero_grad()\n",
        "            # forward + backward + optimize\n",
        "        outputs = net(inputs)\n",
        "        loss = criterion(outputs, labels)\n",
        "        loss.backward()\n",
        "        optimizer.step()\n",
        "\n",
        "            # print statistics\n",
        "        running_loss += loss.item()#use .item() to detach from graph track, free memory\n",
        "        if i % 2000 == 1999:    # print every 2000 mini-batches\n",
        "            print(f'[{epoch + 1}, {i + 1:5d}] loss: {running_loss / 2000:.3f}')\n",
        "            running_loss = 0.0\n",
        "            break    "
      ],
      "metadata": {
        "id": "_J0Ip_QMOupJ"
      },
      "execution_count": null,
      "outputs": []
    },
    {
      "cell_type": "code",
      "source": [],
      "metadata": {
        "id": "W8iP3LogQ_Zq"
      },
      "execution_count": null,
      "outputs": []
    }
  ]
}